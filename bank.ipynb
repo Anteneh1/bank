{
 "cells": [
  {
   "cell_type": "markdown",
   "metadata": {},
   "source": [
    " #   A simple  bank account using class-method"
   ]
  },
  {
   "cell_type": "code",
   "execution_count": 1,
   "metadata": {},
   "outputs": [],
   "source": [
    "class Account:\n",
    "    '''\n",
    "    creating a bank account class that has two attributes:\n",
    "    owner & balance  and two methods deposit & withdraw\n",
    "    '''\n",
    "    \n",
    "    def __init__(self, owner, balance):\n",
    "        self.owner = owner\n",
    "        self.balance = balance\n",
    "        \n",
    "    def display(self):\n",
    "        name = self.owner\n",
    "        bal = self.balance\n",
    "        \n",
    "        print( f'Account owner:{name}\\nAccount balance: ${bal}')\n",
    "    \n",
    "    def deposit(self, value):\n",
    "        self.balance = self.balance + value\n",
    "        return f' You have successfully added ${value} to your acc. You have now ${ self.balance} available'\n",
    "        \n",
    "    \n",
    "    def withdraw(self, amount): \n",
    "        if self.balance >= amount :\n",
    "            self.balance = self.balance - amount\n",
    "            return f'Your remaining balance is ${self.balance}'\n",
    "        else:\n",
    "            return f' You do not have a suffcient balance'\n",
    "        \n",
    "        \n",
    "    def __str__(self):\n",
    "        return f' Account owner: { self.owner} and balance: { self.balance}'"
   ]
  },
  {
   "cell_type": "code",
   "execution_count": null,
   "metadata": {},
   "outputs": [],
   "source": []
  },
  {
   "cell_type": "code",
   "execution_count": null,
   "metadata": {},
   "outputs": [],
   "source": []
  }
 ],
 "metadata": {
  "kernelspec": {
   "display_name": "Python 3",
   "language": "python",
   "name": "python3"
  },
  "language_info": {
   "codemirror_mode": {
    "name": "ipython",
    "version": 3
   },
   "file_extension": ".py",
   "mimetype": "text/x-python",
   "name": "python",
   "nbconvert_exporter": "python",
   "pygments_lexer": "ipython3",
   "version": "3.6.5"
  }
 },
 "nbformat": 4,
 "nbformat_minor": 2
}
